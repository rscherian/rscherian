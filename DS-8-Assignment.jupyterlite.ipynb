{
  "metadata": {
    "language_info": {
      "codemirror_mode": {
        "name": "python",
        "version": 3
      },
      "file_extension": ".py",
      "mimetype": "text/x-python",
      "name": "python",
      "nbconvert_exporter": "python",
      "pygments_lexer": "ipython3",
      "version": "3.8"
    },
    "kernelspec": {
      "name": "python",
      "display_name": "Python (Pyodide)",
      "language": "python"
    }
  },
  "nbformat_minor": 4,
  "nbformat": 4,
  "cells": [
    {
      "cell_type": "markdown",
      "source": "<p style=\"text-align:center\">\n    <a href=\"https://skills.network/?utm_medium=Exinfluencer&utm_source=Exinfluencer&utm_content=000026UJ&utm_term=10006555&utm_id=NA-SkillsNetwork-Channel-SkillsNetworkCoursesIBMDeveloperSkillsNetworkML0101ENSkillsNetwork20718538-2022-01-01\" target=\"_blank\">\n    <img src=\"https://cf-courses-data.s3.us.cloud-object-storage.appdomain.cloud/assets/logos/SN_web_lightmode.png\" width=\"200\" alt=\"Skills Network Logo\"  />\n    </a>\n</p>\n\n# Classification with Python\n\nEstimated time needed: **25** minutes\n\n## Objectives\n\nAfter completing this lab you will be able to:\n\n*   Confidently create classification models\n",
      "metadata": {}
    },
    {
      "cell_type": "markdown",
      "source": "In this notebook we try to practice all the classification algorithms that we learned in this course.\n\nWe load a dataset using Pandas library, apply the following algorithms, and find the best one for this specific dataset by accuracy evaluation methods.\n\nLet's first load required libraries:\n",
      "metadata": {}
    },
    {
      "cell_type": "code",
      "source": "import piplite\nawait piplite.install(['numpy'])\nawait piplite.install(['matplotlib'])\nawait piplite.install(['pandas'])",
      "metadata": {
        "trusted": true
      },
      "execution_count": 1,
      "outputs": []
    },
    {
      "cell_type": "code",
      "source": "import numpy as np\nimport matplotlib.pyplot as plt\nfrom matplotlib.ticker import NullFormatter\nimport pandas as pd\nimport matplotlib.ticker as ticker\nfrom sklearn import preprocessing\n%matplotlib inline",
      "metadata": {
        "trusted": true
      },
      "execution_count": 2,
      "outputs": []
    },
    {
      "cell_type": "markdown",
      "source": "### About dataset\n",
      "metadata": {}
    },
    {
      "cell_type": "markdown",
      "source": "This dataset is about the performance of basketball teams. The **cbb.csv** data set includes performance data about five seasons of 354 basketball teams. It includes the following fields:\n\n| Field      | Description                                                                                                                                                                                                                                                                                                                                                                                                                                                                                                                                                                                                                                                                                                                                                                                                                                                                    |\n| ---------- | ------------------------------------------------------------------------------------------------------------------------------------------------------------------------------------------------------------------------------------------------------------------------------------------------------------------------------------------------------------------------------------------------------------------------------------------------------------------------------------------------------------------------------------------------------------------------------------------------------------------------------------------------------------------------------------------------------------------------------------------------------------------------------------------------------------------------------------------------------------------------------ |\n| TEAM       | The Division I college basketball school                                                                                                                                                                                                                                                                                                                                                                                                                                                                                                                                                                                                                                                                                                                                                                                                                                       |\n| CONF       | The Athletic Conference in which the school participates in (A10 = Atlantic 10, ACC = Atlantic Coast Conference, AE = America East, Amer = American, ASun = ASUN, B10 = Big Ten, B12 = Big 12, BE = Big East, BSky = Big Sky, BSth = Big South, BW = Big West, CAA = Colonial Athletic Association, CUSA = Conference USA, Horz = Horizon League, Ivy = Ivy League, MAAC = Metro Atlantic Athletic Conference, MAC = Mid-American Conference, MEAC = Mid-Eastern Athletic Conference, MVC = Missouri Valley Conference, MWC = Mountain West, NEC = Northeast Conference, OVC = Ohio Valley Conference, P12 = Pac-12, Pat = Patriot League, SB = Sun Belt, SC = Southern Conference, SEC = South Eastern Conference, Slnd = Southland Conference, Sum = Summit League, SWAC = Southwestern Athletic Conference, WAC = Western Athletic Conference, WCC = West Coast Conference) |\n| G          | Number of games played                                                                                                                                                                                                                                                                                                                                                                                                                                                                                                                                                                                                                                                                                                                                                                                                                                                         |\n| W          | Number of games won                                                                                                                                                                                                                                                                                                                                                                                                                                                                                                                                                                                                                                                                                                                                                                                                                                                            |\n| ADJOE      | Adjusted Offensive Efficiency (An estimate of the offensive efficiency (points scored per 100 possessions) a team would have against the average Division I defense)                                                                                                                                                                                                                                                                                                                                                                                                                                                                                                                                                                                                                                                                                                           |\n| ADJDE      | Adjusted Defensive Efficiency (An estimate of the defensive efficiency (points allowed per 100 possessions) a team would have against the average Division I offense)                                                                                                                                                                                                                                                                                                                                                                                                                                                                                                                                                                                                                                                                                                          |\n| BARTHAG    | Power Rating (Chance of beating an average Division I team)                                                                                                                                                                                                                                                                                                                                                                                                                                                                                                                                                                                                                                                                                                                                                                                                                    |\n| EFG_O      | Effective Field Goal Percentage Shot                                                                                                                                                                                                                                                                                                                                                                                                                                                                                                                                                                                                                                                                                                                                                                                                                                           |\n| EFG_D      | Effective Field Goal Percentage Allowed                                                                                                                                                                                                                                                                                                                                                                                                                                                                                                                                                                                                                                                                                                                                                                                                                                        |\n| TOR        | Turnover Percentage Allowed (Turnover Rate)                                                                                                                                                                                                                                                                                                                                                                                                                                                                                                                                                                                                                                                                                                                                                                                                                                    |\n| TORD       | Turnover Percentage Committed (Steal Rate)                                                                                                                                                                                                                                                                                                                                                                                                                                                                                                                                                                                                                                                                                                                                                                                                                                     |\n| ORB        | Offensive Rebound Percentage                                                                                                                                                                                                                                                                                                                                                                                                                                                                                                                                                                                                                                                                                                                                                                                                                                                   |\n| DRB        | Defensive Rebound Percentage                                                                                                                                                                                                                                                                                                                                                                                                                                                                                                                                                                                                                                                                                                                                                                                                                                                   |\n| FTR        | Free Throw Rate (How often the given team shoots Free Throws)                                                                                                                                                                                                                                                                                                                                                                                                                                                                                                                                                                                                                                                                                                                                                                                                                  |\n| FTRD       | Free Throw Rate Allowed                                                                                                                                                                                                                                                                                                                                                                                                                                                                                                                                                                                                                                                                                                                                                                                                                                                        |\n| 2P_O       | Two-Point Shooting Percentage                                                                                                                                                                                                                                                                                                                                                                                                                                                                                                                                                                                                                                                                                                                                                                                                                                                  |\n| 2P_D       | Two-Point Shooting Percentage Allowed                                                                                                                                                                                                                                                                                                                                                                                                                                                                                                                                                                                                                                                                                                                                                                                                                                          |\n| 3P_O       | Three-Point Shooting Percentage                                                                                                                                                                                                                                                                                                                                                                                                                                                                                                                                                                                                                                                                                                                                                                                                                                                |\n| 3P_D       | Three-Point Shooting Percentage Allowed                                                                                                                                                                                                                                                                                                                                                                                                                                                                                                                                                                                                                                                                                                                                                                                                                                        |\n| ADJ_T      | Adjusted Tempo (An estimate of the tempo (possessions per 40 minutes) a team would have against the team that wants to play at an average Division I tempo)                                                                                                                                                                                                                                                                                                                                                                                                                                                                                                                                                                                                                                                                                                                    |\n| WAB        | Wins Above Bubble (The bubble refers to the cut off between making the NCAA March Madness Tournament and not making it)                                                                                                                                                                                                                                                                                                                                                                                                                                                                                                                                                                                                                                                                                                                                                        |\n| POSTSEASON | Round where the given team was eliminated or where their season ended (R68 = First Four, R64 = Round of 64, R32 = Round of 32, S16 = Sweet Sixteen, E8 = Elite Eight, F4 = Final Four, 2ND = Runner-up, Champion = Winner of the NCAA March Madness Tournament for that given year)                                                                                                                                                                                                                                                                                                                                                                                                                                                                                                                                                                                            |\n| SEED       | Seed in the NCAA March Madness Tournament                                                                                                                                                                                                                                                                                                                                                                                                                                                                                                                                                                                                                                                                                                                                                                                                                                      |\n| YEAR       | Season                                                                                                                                                                                                                                                                                                                                                                                                                                                                                                                                                                                                                                                                                                                                                                                                                                                                         |\n",
      "metadata": {}
    },
    {
      "cell_type": "markdown",
      "source": "### Load Data From CSV File\n",
      "metadata": {}
    },
    {
      "cell_type": "markdown",
      "source": "Let's load the dataset \\[NB Need to provide link to csv file]\n",
      "metadata": {}
    },
    {
      "cell_type": "code",
      "source": "path = \"https://cf-courses-data.s3.us.cloud-object-storage.appdomain.cloud/IBMDeveloperSkillsNetwork-ML0101EN-SkillsNetwork/labs/Module%206/cbb.csv\"\nfrom pyodide.http import pyfetch\n\nasync def download(url, filename):\n    response = await pyfetch(url)\n    if response.status == 200:\n        with open(filename, \"wb\") as f:\n            f.write(await response.bytes())\nawait download(path, \"cbb.csv\")\n            ",
      "metadata": {
        "trusted": true
      },
      "execution_count": 3,
      "outputs": []
    },
    {
      "cell_type": "code",
      "source": "df = pd.read_csv(\"cbb.csv\")\ndf.head()",
      "metadata": {
        "trusted": true
      },
      "execution_count": 4,
      "outputs": [
        {
          "execution_count": 4,
          "output_type": "execute_result",
          "data": {
            "text/plain": "             TEAM CONF   G   W  ADJOE  ADJDE  BARTHAG  EFG_O  EFG_D   TOR  \\\n0  North Carolina  ACC  40  33  123.3   94.9   0.9531   52.6   48.1  15.4   \n1       Villanova   BE  40  35  123.1   90.9   0.9703   56.1   46.7  16.3   \n2      Notre Dame  ACC  36  24  118.3  103.3   0.8269   54.0   49.5  15.3   \n3        Virginia  ACC  37  29  119.9   91.0   0.9600   54.8   48.4  15.1   \n4          Kansas  B12  37  32  120.9   90.4   0.9662   55.7   45.1  17.8   \n\n   ...  FTRD  2P_O  2P_D  3P_O  3P_D  ADJ_T   WAB  POSTSEASON  SEED  YEAR  \n0  ...  30.4  53.9  44.6  32.7  36.2   71.7   8.6         2ND   1.0  2016  \n1  ...  30.0  57.4  44.1  36.2  33.9   66.7   8.9   Champions   2.0  2016  \n2  ...  26.0  52.9  46.5  37.4  36.9   65.5   2.3          E8   6.0  2016  \n3  ...  33.4  52.6  46.3  40.3  34.7   61.9   8.6          E8   1.0  2016  \n4  ...  37.3  52.7  43.4  41.3  32.5   70.1  11.6          E8   1.0  2016  \n\n[5 rows x 24 columns]",
            "text/html": "<div>\n<style scoped>\n    .dataframe tbody tr th:only-of-type {\n        vertical-align: middle;\n    }\n\n    .dataframe tbody tr th {\n        vertical-align: top;\n    }\n\n    .dataframe thead th {\n        text-align: right;\n    }\n</style>\n<table border=\"1\" class=\"dataframe\">\n  <thead>\n    <tr style=\"text-align: right;\">\n      <th></th>\n      <th>TEAM</th>\n      <th>CONF</th>\n      <th>G</th>\n      <th>W</th>\n      <th>ADJOE</th>\n      <th>ADJDE</th>\n      <th>BARTHAG</th>\n      <th>EFG_O</th>\n      <th>EFG_D</th>\n      <th>TOR</th>\n      <th>...</th>\n      <th>FTRD</th>\n      <th>2P_O</th>\n      <th>2P_D</th>\n      <th>3P_O</th>\n      <th>3P_D</th>\n      <th>ADJ_T</th>\n      <th>WAB</th>\n      <th>POSTSEASON</th>\n      <th>SEED</th>\n      <th>YEAR</th>\n    </tr>\n  </thead>\n  <tbody>\n    <tr>\n      <th>0</th>\n      <td>North Carolina</td>\n      <td>ACC</td>\n      <td>40</td>\n      <td>33</td>\n      <td>123.3</td>\n      <td>94.9</td>\n      <td>0.9531</td>\n      <td>52.6</td>\n      <td>48.1</td>\n      <td>15.4</td>\n      <td>...</td>\n      <td>30.4</td>\n      <td>53.9</td>\n      <td>44.6</td>\n      <td>32.7</td>\n      <td>36.2</td>\n      <td>71.7</td>\n      <td>8.6</td>\n      <td>2ND</td>\n      <td>1.0</td>\n      <td>2016</td>\n    </tr>\n    <tr>\n      <th>1</th>\n      <td>Villanova</td>\n      <td>BE</td>\n      <td>40</td>\n      <td>35</td>\n      <td>123.1</td>\n      <td>90.9</td>\n      <td>0.9703</td>\n      <td>56.1</td>\n      <td>46.7</td>\n      <td>16.3</td>\n      <td>...</td>\n      <td>30.0</td>\n      <td>57.4</td>\n      <td>44.1</td>\n      <td>36.2</td>\n      <td>33.9</td>\n      <td>66.7</td>\n      <td>8.9</td>\n      <td>Champions</td>\n      <td>2.0</td>\n      <td>2016</td>\n    </tr>\n    <tr>\n      <th>2</th>\n      <td>Notre Dame</td>\n      <td>ACC</td>\n      <td>36</td>\n      <td>24</td>\n      <td>118.3</td>\n      <td>103.3</td>\n      <td>0.8269</td>\n      <td>54.0</td>\n      <td>49.5</td>\n      <td>15.3</td>\n      <td>...</td>\n      <td>26.0</td>\n      <td>52.9</td>\n      <td>46.5</td>\n      <td>37.4</td>\n      <td>36.9</td>\n      <td>65.5</td>\n      <td>2.3</td>\n      <td>E8</td>\n      <td>6.0</td>\n      <td>2016</td>\n    </tr>\n    <tr>\n      <th>3</th>\n      <td>Virginia</td>\n      <td>ACC</td>\n      <td>37</td>\n      <td>29</td>\n      <td>119.9</td>\n      <td>91.0</td>\n      <td>0.9600</td>\n      <td>54.8</td>\n      <td>48.4</td>\n      <td>15.1</td>\n      <td>...</td>\n      <td>33.4</td>\n      <td>52.6</td>\n      <td>46.3</td>\n      <td>40.3</td>\n      <td>34.7</td>\n      <td>61.9</td>\n      <td>8.6</td>\n      <td>E8</td>\n      <td>1.0</td>\n      <td>2016</td>\n    </tr>\n    <tr>\n      <th>4</th>\n      <td>Kansas</td>\n      <td>B12</td>\n      <td>37</td>\n      <td>32</td>\n      <td>120.9</td>\n      <td>90.4</td>\n      <td>0.9662</td>\n      <td>55.7</td>\n      <td>45.1</td>\n      <td>17.8</td>\n      <td>...</td>\n      <td>37.3</td>\n      <td>52.7</td>\n      <td>43.4</td>\n      <td>41.3</td>\n      <td>32.5</td>\n      <td>70.1</td>\n      <td>11.6</td>\n      <td>E8</td>\n      <td>1.0</td>\n      <td>2016</td>\n    </tr>\n  </tbody>\n</table>\n<p>5 rows × 24 columns</p>\n</div>"
          },
          "metadata": {}
        }
      ]
    },
    {
      "cell_type": "code",
      "source": "df.shape",
      "metadata": {
        "trusted": true
      },
      "execution_count": 7,
      "outputs": [
        {
          "execution_count": 7,
          "output_type": "execute_result",
          "data": {
            "text/plain": "(1406, 24)"
          },
          "metadata": {}
        }
      ]
    },
    {
      "cell_type": "code",
      "source": "#df.sample(5)",
      "metadata": {
        "trusted": true
      },
      "execution_count": 8,
      "outputs": []
    },
    {
      "cell_type": "markdown",
      "source": "## Add Column\n\nNext we'll add a column that will contain \"true\" if the wins above bubble are over 7 and \"false\" if not. We'll call this column Win Index or \"windex\" for short.\n",
      "metadata": {}
    },
    {
      "cell_type": "code",
      "source": "df['windex'] = np.where(df.WAB > 7, 'True', 'False')",
      "metadata": {
        "trusted": true
      },
      "execution_count": 10,
      "outputs": []
    },
    {
      "cell_type": "markdown",
      "source": "# Data visualization and pre-processing\n",
      "metadata": {}
    },
    {
      "cell_type": "markdown",
      "source": "Next we'll filter the data set to the teams that made the Sweet Sixteen, the Elite Eight, and the Final Four in the post season. We'll also create a new dataframe that will hold the values with the new column.\n",
      "metadata": {}
    },
    {
      "cell_type": "code",
      "source": "df1 = df.loc[df['POSTSEASON'].str.contains('F4|S16|E8', na=False)]\ndf1.head()",
      "metadata": {
        "trusted": true
      },
      "execution_count": 15,
      "outputs": [
        {
          "execution_count": 15,
          "output_type": "execute_result",
          "data": {
            "text/plain": "         TEAM CONF   G   W  ADJOE  ADJDE  BARTHAG  EFG_O  EFG_D   TOR  ...  \\\n2  Notre Dame  ACC  36  24  118.3  103.3   0.8269   54.0   49.5  15.3  ...   \n3    Virginia  ACC  37  29  119.9   91.0   0.9600   54.8   48.4  15.1  ...   \n4      Kansas  B12  37  32  120.9   90.4   0.9662   55.7   45.1  17.8  ...   \n5      Oregon  P12  37  30  118.4   96.2   0.9163   52.3   48.9  16.1  ...   \n6    Syracuse  ACC  37  23  111.9   93.6   0.8857   50.0   47.3  18.1  ...   \n\n   2P_O  2P_D  3P_O  3P_D  ADJ_T   WAB  POSTSEASON  SEED  YEAR  windex  \n2  52.9  46.5  37.4  36.9   65.5   2.3          E8   6.0  2016   False  \n3  52.6  46.3  40.3  34.7   61.9   8.6          E8   1.0  2016    True  \n4  52.7  43.4  41.3  32.5   70.1  11.6          E8   1.0  2016    True  \n5  52.6  46.1  34.4  36.2   69.0   6.7          E8   1.0  2016   False  \n6  47.2  48.1  36.0  30.7   65.5  -0.3          F4  10.0  2016   False  \n\n[5 rows x 25 columns]",
            "text/html": "<div>\n<style scoped>\n    .dataframe tbody tr th:only-of-type {\n        vertical-align: middle;\n    }\n\n    .dataframe tbody tr th {\n        vertical-align: top;\n    }\n\n    .dataframe thead th {\n        text-align: right;\n    }\n</style>\n<table border=\"1\" class=\"dataframe\">\n  <thead>\n    <tr style=\"text-align: right;\">\n      <th></th>\n      <th>TEAM</th>\n      <th>CONF</th>\n      <th>G</th>\n      <th>W</th>\n      <th>ADJOE</th>\n      <th>ADJDE</th>\n      <th>BARTHAG</th>\n      <th>EFG_O</th>\n      <th>EFG_D</th>\n      <th>TOR</th>\n      <th>...</th>\n      <th>2P_O</th>\n      <th>2P_D</th>\n      <th>3P_O</th>\n      <th>3P_D</th>\n      <th>ADJ_T</th>\n      <th>WAB</th>\n      <th>POSTSEASON</th>\n      <th>SEED</th>\n      <th>YEAR</th>\n      <th>windex</th>\n    </tr>\n  </thead>\n  <tbody>\n    <tr>\n      <th>2</th>\n      <td>Notre Dame</td>\n      <td>ACC</td>\n      <td>36</td>\n      <td>24</td>\n      <td>118.3</td>\n      <td>103.3</td>\n      <td>0.8269</td>\n      <td>54.0</td>\n      <td>49.5</td>\n      <td>15.3</td>\n      <td>...</td>\n      <td>52.9</td>\n      <td>46.5</td>\n      <td>37.4</td>\n      <td>36.9</td>\n      <td>65.5</td>\n      <td>2.3</td>\n      <td>E8</td>\n      <td>6.0</td>\n      <td>2016</td>\n      <td>False</td>\n    </tr>\n    <tr>\n      <th>3</th>\n      <td>Virginia</td>\n      <td>ACC</td>\n      <td>37</td>\n      <td>29</td>\n      <td>119.9</td>\n      <td>91.0</td>\n      <td>0.9600</td>\n      <td>54.8</td>\n      <td>48.4</td>\n      <td>15.1</td>\n      <td>...</td>\n      <td>52.6</td>\n      <td>46.3</td>\n      <td>40.3</td>\n      <td>34.7</td>\n      <td>61.9</td>\n      <td>8.6</td>\n      <td>E8</td>\n      <td>1.0</td>\n      <td>2016</td>\n      <td>True</td>\n    </tr>\n    <tr>\n      <th>4</th>\n      <td>Kansas</td>\n      <td>B12</td>\n      <td>37</td>\n      <td>32</td>\n      <td>120.9</td>\n      <td>90.4</td>\n      <td>0.9662</td>\n      <td>55.7</td>\n      <td>45.1</td>\n      <td>17.8</td>\n      <td>...</td>\n      <td>52.7</td>\n      <td>43.4</td>\n      <td>41.3</td>\n      <td>32.5</td>\n      <td>70.1</td>\n      <td>11.6</td>\n      <td>E8</td>\n      <td>1.0</td>\n      <td>2016</td>\n      <td>True</td>\n    </tr>\n    <tr>\n      <th>5</th>\n      <td>Oregon</td>\n      <td>P12</td>\n      <td>37</td>\n      <td>30</td>\n      <td>118.4</td>\n      <td>96.2</td>\n      <td>0.9163</td>\n      <td>52.3</td>\n      <td>48.9</td>\n      <td>16.1</td>\n      <td>...</td>\n      <td>52.6</td>\n      <td>46.1</td>\n      <td>34.4</td>\n      <td>36.2</td>\n      <td>69.0</td>\n      <td>6.7</td>\n      <td>E8</td>\n      <td>1.0</td>\n      <td>2016</td>\n      <td>False</td>\n    </tr>\n    <tr>\n      <th>6</th>\n      <td>Syracuse</td>\n      <td>ACC</td>\n      <td>37</td>\n      <td>23</td>\n      <td>111.9</td>\n      <td>93.6</td>\n      <td>0.8857</td>\n      <td>50.0</td>\n      <td>47.3</td>\n      <td>18.1</td>\n      <td>...</td>\n      <td>47.2</td>\n      <td>48.1</td>\n      <td>36.0</td>\n      <td>30.7</td>\n      <td>65.5</td>\n      <td>-0.3</td>\n      <td>F4</td>\n      <td>10.0</td>\n      <td>2016</td>\n      <td>False</td>\n    </tr>\n  </tbody>\n</table>\n<p>5 rows × 25 columns</p>\n</div>"
          },
          "metadata": {}
        }
      ]
    },
    {
      "cell_type": "code",
      "source": "df1['POSTSEASON'].value_counts()",
      "metadata": {
        "trusted": true
      },
      "execution_count": 16,
      "outputs": [
        {
          "execution_count": 16,
          "output_type": "execute_result",
          "data": {
            "text/plain": "S16    32\nE8     16\nF4      8\nName: POSTSEASON, dtype: int64"
          },
          "metadata": {}
        }
      ]
    },
    {
      "cell_type": "code",
      "source": "#df1['windex'].value_counts()",
      "metadata": {
        "trusted": true
      },
      "execution_count": 22,
      "outputs": [
        {
          "execution_count": 22,
          "output_type": "execute_result",
          "data": {
            "text/plain": "False    38\nTrue     18\nName: windex, dtype: int64"
          },
          "metadata": {}
        }
      ]
    },
    {
      "cell_type": "markdown",
      "source": "32 teams made it into the Sweet Sixteen, 16 into the Elite Eight, and 8 made it into the Final Four over 5 seasons.\n",
      "metadata": {}
    },
    {
      "cell_type": "markdown",
      "source": "Lets plot some columns to underestand the data better:\n",
      "metadata": {}
    },
    {
      "cell_type": "code",
      "source": "# notice: installing seaborn might takes a few minutes\nawait piplite.install(['seaborn'])",
      "metadata": {
        "trusted": true
      },
      "execution_count": 17,
      "outputs": []
    },
    {
      "cell_type": "code",
      "source": "import seaborn as sns\n\nbins = np.linspace(df1.BARTHAG.min(), df1.BARTHAG.max(), 10)\ng = sns.FacetGrid(df1, col=\"windex\", hue=\"POSTSEASON\", palette=\"Set1\", col_wrap=6)\ng.map(plt.hist, 'BARTHAG', bins=bins, ec=\"k\")\n\ng.axes[-1].legend()\nplt.show()",
      "metadata": {
        "trusted": true
      },
      "execution_count": 18,
      "outputs": [
        {
          "output_type": "display_data",
          "data": {
            "text/plain": "<Figure size 1800x300 with 2 Axes>",
            "image/png": "[encoded data removed]"
          },
          "metadata": {}
        }
      ]
    },
    {
      "cell_type": "code",
      "source": "bins = np.linspace(df1.ADJOE.min(), df1.ADJOE.max(), 10)\ng = sns.FacetGrid(df1, col=\"windex\", hue=\"POSTSEASON\", palette=\"Set1\", col_wrap=2)\ng.map(plt.hist, 'ADJOE', bins=bins, ec=\"k\")\n\ng.axes[-1].legend()\nplt.show()",
      "metadata": {
        "trusted": true
      },
      "execution_count": 19,
      "outputs": [
        {
          "output_type": "display_data",
          "data": {
            "text/plain": "<Figure size 600x300 with 2 Axes>",
            "image/png": "[encoded data removed]"
          },
          "metadata": {}
        }
      ]
    },
    {
      "cell_type": "markdown",
      "source": "# Pre-processing:  Feature selection/extraction\n",
      "metadata": {}
    },
    {
      "cell_type": "markdown",
      "source": "### Lets look at how Adjusted Defense Efficiency plots\n",
      "metadata": {}
    },
    {
      "cell_type": "code",
      "source": "bins = np.linspace(df1.ADJDE.min(), df1.ADJDE.max(), 10)\ng = sns.FacetGrid(df1, col=\"windex\", hue=\"POSTSEASON\", palette=\"Set1\", col_wrap=2)\ng.map(plt.hist, 'ADJDE', bins=bins, ec=\"k\")\ng.axes[-1].legend()\nplt.show()\n",
      "metadata": {
        "trusted": true
      },
      "execution_count": 20,
      "outputs": [
        {
          "output_type": "display_data",
          "data": {
            "text/plain": "<Figure size 600x300 with 2 Axes>",
            "image/png": "[encoded data removed]"
          },
          "metadata": {}
        }
      ]
    },
    {
      "cell_type": "markdown",
      "source": "We see that this data point doesn't impact the ability of a team to get into the Final Four.\n",
      "metadata": {}
    },
    {
      "cell_type": "markdown",
      "source": "## Convert Categorical features to numerical values\n",
      "metadata": {}
    },
    {
      "cell_type": "markdown",
      "source": "Lets look at the postseason:\n",
      "metadata": {}
    },
    {
      "cell_type": "code",
      "source": "df1.groupby(['windex'])['POSTSEASON'].value_counts(normalize=True)",
      "metadata": {
        "trusted": true
      },
      "execution_count": 24,
      "outputs": [
        {
          "execution_count": 24,
          "output_type": "execute_result",
          "data": {
            "text/plain": "windex  POSTSEASON\nFalse   S16           0.605263\n        E8            0.263158\n        F4            0.131579\nTrue    S16           0.500000\n        E8            0.333333\n        F4            0.166667\nName: POSTSEASON, dtype: float64"
          },
          "metadata": {}
        }
      ]
    },
    {
      "cell_type": "code",
      "source": "",
      "metadata": {},
      "execution_count": null,
      "outputs": []
    },
    {
      "cell_type": "markdown",
      "source": "13% of teams with 6 or less wins above bubble make it into the final four while 17% of teams with 7 or more do.\n",
      "metadata": {}
    },
    {
      "cell_type": "markdown",
      "source": "Lets convert wins above bubble (winindex) under 7 to 0 and over 7 to 1:\n",
      "metadata": {}
    },
    {
      "cell_type": "code",
      "source": "import warnings\nwarnings.filterwarnings('ignore')\ndf1['windex'].replace(to_replace=['False','True'], value=[0,1],inplace=True)\ndf1.head()",
      "metadata": {
        "trusted": true
      },
      "execution_count": 25,
      "outputs": [
        {
          "execution_count": 25,
          "output_type": "execute_result",
          "data": {
            "text/plain": "         TEAM CONF   G   W  ADJOE  ADJDE  BARTHAG  EFG_O  EFG_D   TOR  ...  \\\n2  Notre Dame  ACC  36  24  118.3  103.3   0.8269   54.0   49.5  15.3  ...   \n3    Virginia  ACC  37  29  119.9   91.0   0.9600   54.8   48.4  15.1  ...   \n4      Kansas  B12  37  32  120.9   90.4   0.9662   55.7   45.1  17.8  ...   \n5      Oregon  P12  37  30  118.4   96.2   0.9163   52.3   48.9  16.1  ...   \n6    Syracuse  ACC  37  23  111.9   93.6   0.8857   50.0   47.3  18.1  ...   \n\n   2P_O  2P_D  3P_O  3P_D  ADJ_T   WAB  POSTSEASON  SEED  YEAR  windex  \n2  52.9  46.5  37.4  36.9   65.5   2.3          E8   6.0  2016       0  \n3  52.6  46.3  40.3  34.7   61.9   8.6          E8   1.0  2016       1  \n4  52.7  43.4  41.3  32.5   70.1  11.6          E8   1.0  2016       1  \n5  52.6  46.1  34.4  36.2   69.0   6.7          E8   1.0  2016       0  \n6  47.2  48.1  36.0  30.7   65.5  -0.3          F4  10.0  2016       0  \n\n[5 rows x 25 columns]",
            "text/html": "<div>\n<style scoped>\n    .dataframe tbody tr th:only-of-type {\n        vertical-align: middle;\n    }\n\n    .dataframe tbody tr th {\n        vertical-align: top;\n    }\n\n    .dataframe thead th {\n        text-align: right;\n    }\n</style>\n<table border=\"1\" class=\"dataframe\">\n  <thead>\n    <tr style=\"text-align: right;\">\n      <th></th>\n      <th>TEAM</th>\n      <th>CONF</th>\n      <th>G</th>\n      <th>W</th>\n      <th>ADJOE</th>\n      <th>ADJDE</th>\n      <th>BARTHAG</th>\n      <th>EFG_O</th>\n      <th>EFG_D</th>\n      <th>TOR</th>\n      <th>...</th>\n      <th>2P_O</th>\n      <th>2P_D</th>\n      <th>3P_O</th>\n      <th>3P_D</th>\n      <th>ADJ_T</th>\n      <th>WAB</th>\n      <th>POSTSEASON</th>\n      <th>SEED</th>\n      <th>YEAR</th>\n      <th>windex</th>\n    </tr>\n  </thead>\n  <tbody>\n    <tr>\n      <th>2</th>\n      <td>Notre Dame</td>\n      <td>ACC</td>\n      <td>36</td>\n      <td>24</td>\n      <td>118.3</td>\n      <td>103.3</td>\n      <td>0.8269</td>\n      <td>54.0</td>\n      <td>49.5</td>\n      <td>15.3</td>\n      <td>...</td>\n      <td>52.9</td>\n      <td>46.5</td>\n      <td>37.4</td>\n      <td>36.9</td>\n      <td>65.5</td>\n      <td>2.3</td>\n      <td>E8</td>\n      <td>6.0</td>\n      <td>2016</td>\n      <td>0</td>\n    </tr>\n    <tr>\n      <th>3</th>\n      <td>Virginia</td>\n      <td>ACC</td>\n      <td>37</td>\n      <td>29</td>\n      <td>119.9</td>\n      <td>91.0</td>\n      <td>0.9600</td>\n      <td>54.8</td>\n      <td>48.4</td>\n      <td>15.1</td>\n      <td>...</td>\n      <td>52.6</td>\n      <td>46.3</td>\n      <td>40.3</td>\n      <td>34.7</td>\n      <td>61.9</td>\n      <td>8.6</td>\n      <td>E8</td>\n      <td>1.0</td>\n      <td>2016</td>\n      <td>1</td>\n    </tr>\n    <tr>\n      <th>4</th>\n      <td>Kansas</td>\n      <td>B12</td>\n      <td>37</td>\n      <td>32</td>\n      <td>120.9</td>\n      <td>90.4</td>\n      <td>0.9662</td>\n      <td>55.7</td>\n      <td>45.1</td>\n      <td>17.8</td>\n      <td>...</td>\n      <td>52.7</td>\n      <td>43.4</td>\n      <td>41.3</td>\n      <td>32.5</td>\n      <td>70.1</td>\n      <td>11.6</td>\n      <td>E8</td>\n      <td>1.0</td>\n      <td>2016</td>\n      <td>1</td>\n    </tr>\n    <tr>\n      <th>5</th>\n      <td>Oregon</td>\n      <td>P12</td>\n      <td>37</td>\n      <td>30</td>\n      <td>118.4</td>\n      <td>96.2</td>\n      <td>0.9163</td>\n      <td>52.3</td>\n      <td>48.9</td>\n      <td>16.1</td>\n      <td>...</td>\n      <td>52.6</td>\n      <td>46.1</td>\n      <td>34.4</td>\n      <td>36.2</td>\n      <td>69.0</td>\n      <td>6.7</td>\n      <td>E8</td>\n      <td>1.0</td>\n      <td>2016</td>\n      <td>0</td>\n    </tr>\n    <tr>\n      <th>6</th>\n      <td>Syracuse</td>\n      <td>ACC</td>\n      <td>37</td>\n      <td>23</td>\n      <td>111.9</td>\n      <td>93.6</td>\n      <td>0.8857</td>\n      <td>50.0</td>\n      <td>47.3</td>\n      <td>18.1</td>\n      <td>...</td>\n      <td>47.2</td>\n      <td>48.1</td>\n      <td>36.0</td>\n      <td>30.7</td>\n      <td>65.5</td>\n      <td>-0.3</td>\n      <td>F4</td>\n      <td>10.0</td>\n      <td>2016</td>\n      <td>0</td>\n    </tr>\n  </tbody>\n</table>\n<p>5 rows × 25 columns</p>\n</div>"
          },
          "metadata": {}
        }
      ]
    },
    {
      "cell_type": "markdown",
      "source": "### Feature selection\n",
      "metadata": {}
    },
    {
      "cell_type": "markdown",
      "source": "Let's define feature sets, X:\n",
      "metadata": {}
    },
    {
      "cell_type": "code",
      "source": "X = df1[['G', 'W', 'ADJOE', 'ADJDE', 'BARTHAG', 'EFG_O', 'EFG_D',\n       'TOR', 'TORD', 'ORB', 'DRB', 'FTR', 'FTRD', '2P_O', '2P_D', '3P_O',\n       '3P_D', 'ADJ_T', 'WAB', 'SEED', 'windex']]\nX[0:5]",
      "metadata": {
        "trusted": true
      },
      "execution_count": 26,
      "outputs": [
        {
          "execution_count": 26,
          "output_type": "execute_result",
          "data": {
            "text/plain": "    G   W  ADJOE  ADJDE  BARTHAG  EFG_O  EFG_D   TOR  TORD   ORB  ...   FTR  \\\n2  36  24  118.3  103.3   0.8269   54.0   49.5  15.3  14.8  32.7  ...  32.9   \n3  37  29  119.9   91.0   0.9600   54.8   48.4  15.1  18.8  29.9  ...  32.1   \n4  37  32  120.9   90.4   0.9662   55.7   45.1  17.8  18.5  32.2  ...  38.6   \n5  37  30  118.4   96.2   0.9163   52.3   48.9  16.1  20.2  34.1  ...  40.3   \n6  37  23  111.9   93.6   0.8857   50.0   47.3  18.1  20.4  33.5  ...  35.4   \n\n   FTRD  2P_O  2P_D  3P_O  3P_D  ADJ_T   WAB  SEED  windex  \n2  26.0  52.9  46.5  37.4  36.9   65.5   2.3   6.0       0  \n3  33.4  52.6  46.3  40.3  34.7   61.9   8.6   1.0       1  \n4  37.3  52.7  43.4  41.3  32.5   70.1  11.6   1.0       1  \n5  32.0  52.6  46.1  34.4  36.2   69.0   6.7   1.0       0  \n6  28.0  47.2  48.1  36.0  30.7   65.5  -0.3  10.0       0  \n\n[5 rows x 21 columns]",
            "text/html": "<div>\n<style scoped>\n    .dataframe tbody tr th:only-of-type {\n        vertical-align: middle;\n    }\n\n    .dataframe tbody tr th {\n        vertical-align: top;\n    }\n\n    .dataframe thead th {\n        text-align: right;\n    }\n</style>\n<table border=\"1\" class=\"dataframe\">\n  <thead>\n    <tr style=\"text-align: right;\">\n      <th></th>\n      <th>G</th>\n      <th>W</th>\n      <th>ADJOE</th>\n      <th>ADJDE</th>\n      <th>BARTHAG</th>\n      <th>EFG_O</th>\n      <th>EFG_D</th>\n      <th>TOR</th>\n      <th>TORD</th>\n      <th>ORB</th>\n      <th>...</th>\n      <th>FTR</th>\n      <th>FTRD</th>\n      <th>2P_O</th>\n      <th>2P_D</th>\n      <th>3P_O</th>\n      <th>3P_D</th>\n      <th>ADJ_T</th>\n      <th>WAB</th>\n      <th>SEED</th>\n      <th>windex</th>\n    </tr>\n  </thead>\n  <tbody>\n    <tr>\n      <th>2</th>\n      <td>36</td>\n      <td>24</td>\n      <td>118.3</td>\n      <td>103.3</td>\n      <td>0.8269</td>\n      <td>54.0</td>\n      <td>49.5</td>\n      <td>15.3</td>\n      <td>14.8</td>\n      <td>32.7</td>\n      <td>...</td>\n      <td>32.9</td>\n      <td>26.0</td>\n      <td>52.9</td>\n      <td>46.5</td>\n      <td>37.4</td>\n      <td>36.9</td>\n      <td>65.5</td>\n      <td>2.3</td>\n      <td>6.0</td>\n      <td>0</td>\n    </tr>\n    <tr>\n      <th>3</th>\n      <td>37</td>\n      <td>29</td>\n      <td>119.9</td>\n      <td>91.0</td>\n      <td>0.9600</td>\n      <td>54.8</td>\n      <td>48.4</td>\n      <td>15.1</td>\n      <td>18.8</td>\n      <td>29.9</td>\n      <td>...</td>\n      <td>32.1</td>\n      <td>33.4</td>\n      <td>52.6</td>\n      <td>46.3</td>\n      <td>40.3</td>\n      <td>34.7</td>\n      <td>61.9</td>\n      <td>8.6</td>\n      <td>1.0</td>\n      <td>1</td>\n    </tr>\n    <tr>\n      <th>4</th>\n      <td>37</td>\n      <td>32</td>\n      <td>120.9</td>\n      <td>90.4</td>\n      <td>0.9662</td>\n      <td>55.7</td>\n      <td>45.1</td>\n      <td>17.8</td>\n      <td>18.5</td>\n      <td>32.2</td>\n      <td>...</td>\n      <td>38.6</td>\n      <td>37.3</td>\n      <td>52.7</td>\n      <td>43.4</td>\n      <td>41.3</td>\n      <td>32.5</td>\n      <td>70.1</td>\n      <td>11.6</td>\n      <td>1.0</td>\n      <td>1</td>\n    </tr>\n    <tr>\n      <th>5</th>\n      <td>37</td>\n      <td>30</td>\n      <td>118.4</td>\n      <td>96.2</td>\n      <td>0.9163</td>\n      <td>52.3</td>\n      <td>48.9</td>\n      <td>16.1</td>\n      <td>20.2</td>\n      <td>34.1</td>\n      <td>...</td>\n      <td>40.3</td>\n      <td>32.0</td>\n      <td>52.6</td>\n      <td>46.1</td>\n      <td>34.4</td>\n      <td>36.2</td>\n      <td>69.0</td>\n      <td>6.7</td>\n      <td>1.0</td>\n      <td>0</td>\n    </tr>\n    <tr>\n      <th>6</th>\n      <td>37</td>\n      <td>23</td>\n      <td>111.9</td>\n      <td>93.6</td>\n      <td>0.8857</td>\n      <td>50.0</td>\n      <td>47.3</td>\n      <td>18.1</td>\n      <td>20.4</td>\n      <td>33.5</td>\n      <td>...</td>\n      <td>35.4</td>\n      <td>28.0</td>\n      <td>47.2</td>\n      <td>48.1</td>\n      <td>36.0</td>\n      <td>30.7</td>\n      <td>65.5</td>\n      <td>-0.3</td>\n      <td>10.0</td>\n      <td>0</td>\n    </tr>\n  </tbody>\n</table>\n<p>5 rows × 21 columns</p>\n</div>"
          },
          "metadata": {}
        }
      ]
    },
    {
      "cell_type": "markdown",
      "source": "What are our lables? Round where the given team was eliminated or where their season ended (R68 = First Four, R64 = Round of 64, R32 = Round of 32, S16 = Sweet Sixteen, E8 = Elite Eight, F4 = Final Four, 2ND = Runner-up, Champion = Winner of the NCAA March Madness Tournament for that given year)|\n",
      "metadata": {}
    },
    {
      "cell_type": "code",
      "source": "y = df1['POSTSEASON'].values\ny[0:5]",
      "metadata": {
        "trusted": true
      },
      "execution_count": 29,
      "outputs": [
        {
          "execution_count": 29,
          "output_type": "execute_result",
          "data": {
            "text/plain": "array(['E8', 'E8', 'E8', 'E8', 'F4'], dtype=object)"
          },
          "metadata": {}
        }
      ]
    },
    {
      "cell_type": "markdown",
      "source": "## Normalize Data\n",
      "metadata": {}
    },
    {
      "cell_type": "markdown",
      "source": "Data Standardization gives data zero mean and unit variance (technically should be done after train test split )\n",
      "metadata": {}
    },
    {
      "cell_type": "code",
      "source": "X= preprocessing.StandardScaler().fit(X).transform(X)\nX[0:5]",
      "metadata": {
        "trusted": true
      },
      "execution_count": 30,
      "outputs": [
        {
          "execution_count": 30,
          "output_type": "execute_result",
          "data": {
            "text/plain": "array([[-0.43331874, -1.26140173,  0.28034482,  2.74329908, -2.45717765,\n         0.10027963,  0.94171924, -1.16188145, -1.71391372,  0.12750511,\n         1.33368704, -0.4942211 , -0.87998988,  0.02784185,  0.00307239,\n         0.22576157,  1.59744386, -1.12106011, -1.0448016 ,  0.49716104,\n        -0.6882472 ],\n       [ 0.40343468,  0.35874728,  0.64758014, -0.90102957,  1.127076  ,\n         0.39390887,  0.38123706, -1.29466791, -0.03522254, -0.62979797,\n        -1.31585883, -0.68542235,  0.55458056, -0.07167795, -0.0829545 ,\n         1.32677295,  0.65081046, -2.369021  ,  0.98050611, -1.14054592,\n         1.45296631],\n       [ 0.40343468,  1.33083669,  0.87710222, -1.0788017 ,  1.29403598,\n         0.72424177, -1.30020946,  0.49794919, -0.16112438, -0.00772758,\n        -0.27908001,  0.86808783,  1.31063795, -0.03850468, -1.33034432,\n         1.70643205, -0.29582294,  0.47355659,  1.94493836, -1.14054592,\n         1.45296631],\n       [ 0.40343468,  0.68277708,  0.30329703,  0.63966222, -0.04972253,\n        -0.52368251,  0.63600169, -0.63073565,  0.55231938,  0.50615665,\n         0.71929959,  1.2743905 ,  0.28317534, -0.07167795, -0.16898138,\n        -0.91321572,  1.29624232,  0.0922352 ,  0.36969903, -1.14054592,\n        -0.6882472 ],\n       [ 0.40343468, -1.58543153, -1.18859646, -0.13068368, -0.87375079,\n        -1.36786658, -0.17924511,  0.69712887,  0.63625394,  0.34387742,\n         2.56246194,  0.10328282, -0.49226814, -1.8630343 ,  0.69128747,\n        -0.30576117, -1.07034117, -1.12106011, -1.88064288,  1.80732661,\n        -0.6882472 ]])"
          },
          "metadata": {}
        }
      ]
    },
    {
      "cell_type": "markdown",
      "source": "## Training and Validation\n",
      "metadata": {}
    },
    {
      "cell_type": "markdown",
      "source": "Split the data into Training and Validation data.\n",
      "metadata": {}
    },
    {
      "cell_type": "code",
      "source": "# We split the X into train and test to find the best k\nfrom sklearn.model_selection import train_test_split\nX_train, X_val, y_train, y_val = train_test_split(X, y, test_size=0.2, random_state=4)\nprint ('Train set:', X_train.shape,  y_train.shape)\nprint ('Validation set:', X_val.shape,  y_val.shape)",
      "metadata": {
        "trusted": true
      },
      "execution_count": 31,
      "outputs": [
        {
          "name": "stdout",
          "text": "Train set: (44, 21) (44,)\nValidation set: (12, 21) (12,)\n",
          "output_type": "stream"
        }
      ]
    },
    {
      "cell_type": "markdown",
      "source": "# Classification\n",
      "metadata": {}
    },
    {
      "cell_type": "markdown",
      "source": "Now, it is your turn, use the training set to build an accurate model. Then use the validation set  to report the accuracy of the model\nYou should use the following algorithm:\n\n*   K Nearest Neighbor(KNN)\n*   Decision Tree\n*   Support Vector Machine\n*   Logistic Regression\n",
      "metadata": {}
    },
    {
      "cell_type": "markdown",
      "source": "# K Nearest Neighbor(KNN)\n\n<b>Question  1 </b> Build a KNN model using a value of k equals five, find the accuracy on the validation data (X_val and y_val)\n",
      "metadata": {}
    },
    {
      "cell_type": "markdown",
      "source": "You can use <code> accuracy_score</cdoe>\n",
      "metadata": {}
    },
    {
      "cell_type": "code",
      "source": "from sklearn.metrics import accuracy_score\nfrom sklearn.neighbors import KNeighborsClassifier\n\nk = 5\n#Train the model and predict\nkneigh = KNeighborsClassifier(n_neighbors = k).fit(X_train, y_train)\nkneigh\n\nyhat_kneigh = kneigh.predict(X_val)\n\nprint(\"Validation data accuracy is \", accuracy_score(y_val, yhat_kneigh))",
      "metadata": {
        "trusted": true
      },
      "execution_count": 35,
      "outputs": [
        {
          "name": "stdout",
          "text": "Validation data accuracy is  0.6666666666666666\n",
          "output_type": "stream"
        }
      ]
    },
    {
      "cell_type": "markdown",
      "source": "<b>Question  2</b> Determine and print the accuracy for the first 15 values of k on the validation data:\n",
      "metadata": {}
    },
    {
      "cell_type": "code",
      "source": "for k in range(1,16):\n    kneigh = KNeighborsClassifier(n_neighbors = k).fit(X_train, y_train)\n    kneigh\n\n    yhat_kneigh = kneigh.predict(X_val)\n\n    print(\"Validation data accuracy for k = {0} is \".format(k), accuracy_score(y_val, yhat_kneigh))",
      "metadata": {
        "trusted": true
      },
      "execution_count": 37,
      "outputs": [
        {
          "name": "stdout",
          "text": "Validation data accuracy for k = 1 is  0.3333333333333333\nValidation data accuracy for k = 2 is  0.3333333333333333\nValidation data accuracy for k = 3 is  0.5\nValidation data accuracy for k = 4 is  0.5833333333333334\nValidation data accuracy for k = 5 is  0.6666666666666666\nValidation data accuracy for k = 6 is  0.5833333333333334\nValidation data accuracy for k = 7 is  0.5833333333333334\nValidation data accuracy for k = 8 is  0.6666666666666666\nValidation data accuracy for k = 9 is  0.5833333333333334\nValidation data accuracy for k = 10 is  0.5833333333333334\nValidation data accuracy for k = 11 is  0.5833333333333334\nValidation data accuracy for k = 12 is  0.5\nValidation data accuracy for k = 13 is  0.5833333333333334\nValidation data accuracy for k = 14 is  0.5833333333333334\nValidation data accuracy for k = 15 is  0.5833333333333334\n",
          "output_type": "stream"
        }
      ]
    },
    {
      "cell_type": "code",
      "source": "# Model with Optimal k (for k =5, the accuracy score is maximum)\nkneigh = KNeighborsClassifier(n_neighbors = 5).fit(X_train, y_train)\nkneigh",
      "metadata": {
        "trusted": true
      },
      "execution_count": 65,
      "outputs": [
        {
          "execution_count": 65,
          "output_type": "execute_result",
          "data": {
            "text/plain": "KNeighborsClassifier()",
            "text/html": "<style>#sk-container-id-3 {color: black;background-color: white;}#sk-container-id-3 pre{padding: 0;}#sk-container-id-3 div.sk-toggleable {background-color: white;}#sk-container-id-3 label.sk-toggleable__label {cursor: pointer;display: block;width: 100%;margin-bottom: 0;padding: 0.3em;box-sizing: border-box;text-align: center;}#sk-container-id-3 label.sk-toggleable__label-arrow:before {content: \"▸\";float: left;margin-right: 0.25em;color: #696969;}#sk-container-id-3 label.sk-toggleable__label-arrow:hover:before {color: black;}#sk-container-id-3 div.sk-estimator:hover label.sk-toggleable__label-arrow:before {color: black;}#sk-container-id-3 div.sk-toggleable__content {max-height: 0;max-width: 0;overflow: hidden;text-align: left;background-color: #f0f8ff;}#sk-container-id-3 div.sk-toggleable__content pre {margin: 0.2em;color: black;border-radius: 0.25em;background-color: #f0f8ff;}#sk-container-id-3 input.sk-toggleable__control:checked~div.sk-toggleable__content {max-height: 200px;max-width: 100%;overflow: auto;}#sk-container-id-3 input.sk-toggleable__control:checked~label.sk-toggleable__label-arrow:before {content: \"▾\";}#sk-container-id-3 div.sk-estimator input.sk-toggleable__control:checked~label.sk-toggleable__label {background-color: #d4ebff;}#sk-container-id-3 div.sk-label input.sk-toggleable__control:checked~label.sk-toggleable__label {background-color: #d4ebff;}#sk-container-id-3 input.sk-hidden--visually {border: 0;clip: rect(1px 1px 1px 1px);clip: rect(1px, 1px, 1px, 1px);height: 1px;margin: -1px;overflow: hidden;padding: 0;position: absolute;width: 1px;}#sk-container-id-3 div.sk-estimator {font-family: monospace;background-color: #f0f8ff;border: 1px dotted black;border-radius: 0.25em;box-sizing: border-box;margin-bottom: 0.5em;}#sk-container-id-3 div.sk-estimator:hover {background-color: #d4ebff;}#sk-container-id-3 div.sk-parallel-item::after {content: \"\";width: 100%;border-bottom: 1px solid gray;flex-grow: 1;}#sk-container-id-3 div.sk-label:hover label.sk-toggleable__label {background-color: #d4ebff;}#sk-container-id-3 div.sk-serial::before {content: \"\";position: absolute;border-left: 1px solid gray;box-sizing: border-box;top: 0;bottom: 0;left: 50%;z-index: 0;}#sk-container-id-3 div.sk-serial {display: flex;flex-direction: column;align-items: center;background-color: white;padding-right: 0.2em;padding-left: 0.2em;position: relative;}#sk-container-id-3 div.sk-item {position: relative;z-index: 1;}#sk-container-id-3 div.sk-parallel {display: flex;align-items: stretch;justify-content: center;background-color: white;position: relative;}#sk-container-id-3 div.sk-item::before, #sk-container-id-3 div.sk-parallel-item::before {content: \"\";position: absolute;border-left: 1px solid gray;box-sizing: border-box;top: 0;bottom: 0;left: 50%;z-index: -1;}#sk-container-id-3 div.sk-parallel-item {display: flex;flex-direction: column;z-index: 1;position: relative;background-color: white;}#sk-container-id-3 div.sk-parallel-item:first-child::after {align-self: flex-end;width: 50%;}#sk-container-id-3 div.sk-parallel-item:last-child::after {align-self: flex-start;width: 50%;}#sk-container-id-3 div.sk-parallel-item:only-child::after {width: 0;}#sk-container-id-3 div.sk-dashed-wrapped {border: 1px dashed gray;margin: 0 0.4em 0.5em 0.4em;box-sizing: border-box;padding-bottom: 0.4em;background-color: white;}#sk-container-id-3 div.sk-label label {font-family: monospace;font-weight: bold;display: inline-block;line-height: 1.2em;}#sk-container-id-3 div.sk-label-container {text-align: center;}#sk-container-id-3 div.sk-container {/* jupyter's `normalize.less` sets `[hidden] { display: none; }` but bootstrap.min.css set `[hidden] { display: none !important; }` so we also need the `!important` here to be able to override the default hidden behavior on the sphinx rendered scikit-learn.org. See: https://github.com/scikit-learn/scikit-learn/issues/21755 */display: inline-block !important;position: relative;}#sk-container-id-3 div.sk-text-repr-fallback {display: none;}</style><div id=\"sk-container-id-3\" class=\"sk-top-container\"><div class=\"sk-text-repr-fallback\"><pre>KNeighborsClassifier()</pre><b>In a Jupyter environment, please rerun this cell to show the HTML representation or trust the notebook. <br />On GitHub, the HTML representation is unable to render, please try loading this page with nbviewer.org.</b></div><div class=\"sk-container\" hidden><div class=\"sk-item\"><div class=\"sk-estimator sk-toggleable\"><input class=\"sk-toggleable__control sk-hidden--visually\" id=\"sk-estimator-id-3\" type=\"checkbox\" checked><label for=\"sk-estimator-id-3\" class=\"sk-toggleable__label sk-toggleable__label-arrow\">KNeighborsClassifier</label><div class=\"sk-toggleable__content\"><pre>KNeighborsClassifier()</pre></div></div></div></div></div>"
          },
          "metadata": {}
        }
      ]
    },
    {
      "cell_type": "markdown",
      "source": "# Decision Tree\n",
      "metadata": {}
    },
    {
      "cell_type": "markdown",
      "source": "The following lines of code fit a <code>DecisionTreeClassifier</code>:\n",
      "metadata": {}
    },
    {
      "cell_type": "code",
      "source": "from sklearn.tree import DecisionTreeClassifier",
      "metadata": {
        "trusted": true
      },
      "execution_count": 39,
      "outputs": []
    },
    {
      "cell_type": "markdown",
      "source": "<b>Question  3</b> Determine the minumum   value for the parameter <code>max_depth</code> that improves results\n",
      "metadata": {}
    },
    {
      "cell_type": "code",
      "source": "k_dict = {}\n\nfor k1 in range(1,10):\n    dtc = DecisionTreeClassifier(criterion = \"entropy\", max_depth = k1)\n    dtc.fit(X_train, y_train)\n    \n    yhat_dtc = dtc.predict(X_val)\n    \n    print(\"Decision Tree's accuracy for max_depth of {0} is \".format(k1), accuracy_score(y_val, yhat_dtc))\n    k_dict[k1] = accuracy_score(y_val, yhat_dtc)\n    \nk1_max  = max(k_dict, key = lambda x: k_dict[x])\nprint(\"\\nThe minimum value for the parameter max_depth that improves results is {0}\".format(k1_max))",
      "metadata": {
        "trusted": true
      },
      "execution_count": 48,
      "outputs": [
        {
          "name": "stdout",
          "text": "Decision Tree's accuracy for max_depth of 1 is  0.6666666666666666\nDecision Tree's accuracy for max_depth of 2 is  0.6666666666666666\nDecision Tree's accuracy for max_depth of 3 is  0.5\nDecision Tree's accuracy for max_depth of 4 is  0.3333333333333333\nDecision Tree's accuracy for max_depth of 5 is  0.5\nDecision Tree's accuracy for max_depth of 6 is  0.5\nDecision Tree's accuracy for max_depth of 7 is  0.4166666666666667\nDecision Tree's accuracy for max_depth of 8 is  0.5\nDecision Tree's accuracy for max_depth of 9 is  0.5\n\nThe minimum value for the parameter max_depth that improves results is 1\n",
          "output_type": "stream"
        }
      ]
    },
    {
      "cell_type": "code",
      "source": "# Model with maximum accuracy score (for max_depth =1, the accuracy score is maximum)\ndtc = DecisionTreeClassifier(criterion = \"entropy\", max_depth = 1)\ndtc.fit(X_train, y_train)\n",
      "metadata": {
        "trusted": true
      },
      "execution_count": 69,
      "outputs": [
        {
          "execution_count": 69,
          "output_type": "execute_result",
          "data": {
            "text/plain": "DecisionTreeClassifier(criterion='entropy', max_depth=1)",
            "text/html": "<style>#sk-container-id-5 {color: black;background-color: white;}#sk-container-id-5 pre{padding: 0;}#sk-container-id-5 div.sk-toggleable {background-color: white;}#sk-container-id-5 label.sk-toggleable__label {cursor: pointer;display: block;width: 100%;margin-bottom: 0;padding: 0.3em;box-sizing: border-box;text-align: center;}#sk-container-id-5 label.sk-toggleable__label-arrow:before {content: \"▸\";float: left;margin-right: 0.25em;color: #696969;}#sk-container-id-5 label.sk-toggleable__label-arrow:hover:before {color: black;}#sk-container-id-5 div.sk-estimator:hover label.sk-toggleable__label-arrow:before {color: black;}#sk-container-id-5 div.sk-toggleable__content {max-height: 0;max-width: 0;overflow: hidden;text-align: left;background-color: #f0f8ff;}#sk-container-id-5 div.sk-toggleable__content pre {margin: 0.2em;color: black;border-radius: 0.25em;background-color: #f0f8ff;}#sk-container-id-5 input.sk-toggleable__control:checked~div.sk-toggleable__content {max-height: 200px;max-width: 100%;overflow: auto;}#sk-container-id-5 input.sk-toggleable__control:checked~label.sk-toggleable__label-arrow:before {content: \"▾\";}#sk-container-id-5 div.sk-estimator input.sk-toggleable__control:checked~label.sk-toggleable__label {background-color: #d4ebff;}#sk-container-id-5 div.sk-label input.sk-toggleable__control:checked~label.sk-toggleable__label {background-color: #d4ebff;}#sk-container-id-5 input.sk-hidden--visually {border: 0;clip: rect(1px 1px 1px 1px);clip: rect(1px, 1px, 1px, 1px);height: 1px;margin: -1px;overflow: hidden;padding: 0;position: absolute;width: 1px;}#sk-container-id-5 div.sk-estimator {font-family: monospace;background-color: #f0f8ff;border: 1px dotted black;border-radius: 0.25em;box-sizing: border-box;margin-bottom: 0.5em;}#sk-container-id-5 div.sk-estimator:hover {background-color: #d4ebff;}#sk-container-id-5 div.sk-parallel-item::after {content: \"\";width: 100%;border-bottom: 1px solid gray;flex-grow: 1;}#sk-container-id-5 div.sk-label:hover label.sk-toggleable__label {background-color: #d4ebff;}#sk-container-id-5 div.sk-serial::before {content: \"\";position: absolute;border-left: 1px solid gray;box-sizing: border-box;top: 0;bottom: 0;left: 50%;z-index: 0;}#sk-container-id-5 div.sk-serial {display: flex;flex-direction: column;align-items: center;background-color: white;padding-right: 0.2em;padding-left: 0.2em;position: relative;}#sk-container-id-5 div.sk-item {position: relative;z-index: 1;}#sk-container-id-5 div.sk-parallel {display: flex;align-items: stretch;justify-content: center;background-color: white;position: relative;}#sk-container-id-5 div.sk-item::before, #sk-container-id-5 div.sk-parallel-item::before {content: \"\";position: absolute;border-left: 1px solid gray;box-sizing: border-box;top: 0;bottom: 0;left: 50%;z-index: -1;}#sk-container-id-5 div.sk-parallel-item {display: flex;flex-direction: column;z-index: 1;position: relative;background-color: white;}#sk-container-id-5 div.sk-parallel-item:first-child::after {align-self: flex-end;width: 50%;}#sk-container-id-5 div.sk-parallel-item:last-child::after {align-self: flex-start;width: 50%;}#sk-container-id-5 div.sk-parallel-item:only-child::after {width: 0;}#sk-container-id-5 div.sk-dashed-wrapped {border: 1px dashed gray;margin: 0 0.4em 0.5em 0.4em;box-sizing: border-box;padding-bottom: 0.4em;background-color: white;}#sk-container-id-5 div.sk-label label {font-family: monospace;font-weight: bold;display: inline-block;line-height: 1.2em;}#sk-container-id-5 div.sk-label-container {text-align: center;}#sk-container-id-5 div.sk-container {/* jupyter's `normalize.less` sets `[hidden] { display: none; }` but bootstrap.min.css set `[hidden] { display: none !important; }` so we also need the `!important` here to be able to override the default hidden behavior on the sphinx rendered scikit-learn.org. See: https://github.com/scikit-learn/scikit-learn/issues/21755 */display: inline-block !important;position: relative;}#sk-container-id-5 div.sk-text-repr-fallback {display: none;}</style><div id=\"sk-container-id-5\" class=\"sk-top-container\"><div class=\"sk-text-repr-fallback\"><pre>DecisionTreeClassifier(criterion=&#x27;entropy&#x27;, max_depth=1)</pre><b>In a Jupyter environment, please rerun this cell to show the HTML representation or trust the notebook. <br />On GitHub, the HTML representation is unable to render, please try loading this page with nbviewer.org.</b></div><div class=\"sk-container\" hidden><div class=\"sk-item\"><div class=\"sk-estimator sk-toggleable\"><input class=\"sk-toggleable__control sk-hidden--visually\" id=\"sk-estimator-id-5\" type=\"checkbox\" checked><label for=\"sk-estimator-id-5\" class=\"sk-toggleable__label sk-toggleable__label-arrow\">DecisionTreeClassifier</label><div class=\"sk-toggleable__content\"><pre>DecisionTreeClassifier(criterion=&#x27;entropy&#x27;, max_depth=1)</pre></div></div></div></div></div>"
          },
          "metadata": {}
        }
      ]
    },
    {
      "cell_type": "markdown",
      "source": "# Support Vector Machine\n",
      "metadata": {}
    },
    {
      "cell_type": "markdown",
      "source": "<b>Question  4</b> Train the support  vector machine model and determine the accuracy on the validation data for each kernel. Find the kernel (linear, poly, rbf, sigmoid) that provides the best score on the validation data and train a SVM using it.\n",
      "metadata": {}
    },
    {
      "cell_type": "code",
      "source": "from sklearn import svm",
      "metadata": {
        "trusted": true
      },
      "execution_count": 49,
      "outputs": []
    },
    {
      "cell_type": "code",
      "source": "kernel_dict = {}\nkernellist = [\"linear\", \"poly\", \"rbf\", \"sigmoid\"]\n\nfor x in kernellist:\n    project_svm = svm.SVC(kernel = x)\n    project_svm.fit(X_train, y_train)\n    yhat_svm = project_svm.predict(X_val)\n    \n    print(\"Accuracy of SVM with kernel {0} is {1:.3f}\".format(x, accuracy_score(y_val, yhat_svm)))\n    kernel_dict[x] = accuracy_score(y_val, yhat_svm)\n    \nkernel_max  = max(kernel_dict, key = lambda x: kernel_dict[x])\nprint(\"\\nThe kernel that provides the best score on the validation data is {0}\".format(kernel_max))\n    \n",
      "metadata": {
        "trusted": true
      },
      "execution_count": 56,
      "outputs": [
        {
          "name": "stdout",
          "text": "Accuracy of SVM with kernel linear is 0.250\nAccuracy of SVM with kernel poly is 0.667\nAccuracy of SVM with kernel rbf is 0.583\nAccuracy of SVM with kernel sigmoid is 0.583\n\nThe kernel that provides the best score on the validation data is poly\n",
          "output_type": "stream"
        }
      ]
    },
    {
      "cell_type": "code",
      "source": "# Model with maximum accuracy score (for kernel = poly, the accuracy score is maximum)\nproject_svm = svm.SVC(kernel = 'poly')\nproject_svm.fit(X_train, y_train)\nproject_svm",
      "metadata": {
        "trusted": true
      },
      "execution_count": 71,
      "outputs": [
        {
          "execution_count": 71,
          "output_type": "execute_result",
          "data": {
            "text/plain": "SVC(kernel='poly')",
            "text/html": "<style>#sk-container-id-6 {color: black;background-color: white;}#sk-container-id-6 pre{padding: 0;}#sk-container-id-6 div.sk-toggleable {background-color: white;}#sk-container-id-6 label.sk-toggleable__label {cursor: pointer;display: block;width: 100%;margin-bottom: 0;padding: 0.3em;box-sizing: border-box;text-align: center;}#sk-container-id-6 label.sk-toggleable__label-arrow:before {content: \"▸\";float: left;margin-right: 0.25em;color: #696969;}#sk-container-id-6 label.sk-toggleable__label-arrow:hover:before {color: black;}#sk-container-id-6 div.sk-estimator:hover label.sk-toggleable__label-arrow:before {color: black;}#sk-container-id-6 div.sk-toggleable__content {max-height: 0;max-width: 0;overflow: hidden;text-align: left;background-color: #f0f8ff;}#sk-container-id-6 div.sk-toggleable__content pre {margin: 0.2em;color: black;border-radius: 0.25em;background-color: #f0f8ff;}#sk-container-id-6 input.sk-toggleable__control:checked~div.sk-toggleable__content {max-height: 200px;max-width: 100%;overflow: auto;}#sk-container-id-6 input.sk-toggleable__control:checked~label.sk-toggleable__label-arrow:before {content: \"▾\";}#sk-container-id-6 div.sk-estimator input.sk-toggleable__control:checked~label.sk-toggleable__label {background-color: #d4ebff;}#sk-container-id-6 div.sk-label input.sk-toggleable__control:checked~label.sk-toggleable__label {background-color: #d4ebff;}#sk-container-id-6 input.sk-hidden--visually {border: 0;clip: rect(1px 1px 1px 1px);clip: rect(1px, 1px, 1px, 1px);height: 1px;margin: -1px;overflow: hidden;padding: 0;position: absolute;width: 1px;}#sk-container-id-6 div.sk-estimator {font-family: monospace;background-color: #f0f8ff;border: 1px dotted black;border-radius: 0.25em;box-sizing: border-box;margin-bottom: 0.5em;}#sk-container-id-6 div.sk-estimator:hover {background-color: #d4ebff;}#sk-container-id-6 div.sk-parallel-item::after {content: \"\";width: 100%;border-bottom: 1px solid gray;flex-grow: 1;}#sk-container-id-6 div.sk-label:hover label.sk-toggleable__label {background-color: #d4ebff;}#sk-container-id-6 div.sk-serial::before {content: \"\";position: absolute;border-left: 1px solid gray;box-sizing: border-box;top: 0;bottom: 0;left: 50%;z-index: 0;}#sk-container-id-6 div.sk-serial {display: flex;flex-direction: column;align-items: center;background-color: white;padding-right: 0.2em;padding-left: 0.2em;position: relative;}#sk-container-id-6 div.sk-item {position: relative;z-index: 1;}#sk-container-id-6 div.sk-parallel {display: flex;align-items: stretch;justify-content: center;background-color: white;position: relative;}#sk-container-id-6 div.sk-item::before, #sk-container-id-6 div.sk-parallel-item::before {content: \"\";position: absolute;border-left: 1px solid gray;box-sizing: border-box;top: 0;bottom: 0;left: 50%;z-index: -1;}#sk-container-id-6 div.sk-parallel-item {display: flex;flex-direction: column;z-index: 1;position: relative;background-color: white;}#sk-container-id-6 div.sk-parallel-item:first-child::after {align-self: flex-end;width: 50%;}#sk-container-id-6 div.sk-parallel-item:last-child::after {align-self: flex-start;width: 50%;}#sk-container-id-6 div.sk-parallel-item:only-child::after {width: 0;}#sk-container-id-6 div.sk-dashed-wrapped {border: 1px dashed gray;margin: 0 0.4em 0.5em 0.4em;box-sizing: border-box;padding-bottom: 0.4em;background-color: white;}#sk-container-id-6 div.sk-label label {font-family: monospace;font-weight: bold;display: inline-block;line-height: 1.2em;}#sk-container-id-6 div.sk-label-container {text-align: center;}#sk-container-id-6 div.sk-container {/* jupyter's `normalize.less` sets `[hidden] { display: none; }` but bootstrap.min.css set `[hidden] { display: none !important; }` so we also need the `!important` here to be able to override the default hidden behavior on the sphinx rendered scikit-learn.org. See: https://github.com/scikit-learn/scikit-learn/issues/21755 */display: inline-block !important;position: relative;}#sk-container-id-6 div.sk-text-repr-fallback {display: none;}</style><div id=\"sk-container-id-6\" class=\"sk-top-container\"><div class=\"sk-text-repr-fallback\"><pre>SVC(kernel=&#x27;poly&#x27;)</pre><b>In a Jupyter environment, please rerun this cell to show the HTML representation or trust the notebook. <br />On GitHub, the HTML representation is unable to render, please try loading this page with nbviewer.org.</b></div><div class=\"sk-container\" hidden><div class=\"sk-item\"><div class=\"sk-estimator sk-toggleable\"><input class=\"sk-toggleable__control sk-hidden--visually\" id=\"sk-estimator-id-6\" type=\"checkbox\" checked><label for=\"sk-estimator-id-6\" class=\"sk-toggleable__label sk-toggleable__label-arrow\">SVC</label><div class=\"sk-toggleable__content\"><pre>SVC(kernel=&#x27;poly&#x27;)</pre></div></div></div></div></div>"
          },
          "metadata": {}
        }
      ]
    },
    {
      "cell_type": "markdown",
      "source": "# Logistic Regression\n",
      "metadata": {}
    },
    {
      "cell_type": "markdown",
      "source": "<b>Question 5</b> Train a logistic regression model and determine the accuracy of the validation data (set C=0.01)\n",
      "metadata": {}
    },
    {
      "cell_type": "code",
      "source": "from sklearn.linear_model import LogisticRegression",
      "metadata": {
        "trusted": true
      },
      "execution_count": 57,
      "outputs": []
    },
    {
      "cell_type": "code",
      "source": "log_reg = LogisticRegression(C = 0.01).fit(X_train, y_train)\nyhat_logreg = log_reg.predict(X_val)\nprint(\"Accuracy of the logistic regression model is {0:.3f}\".format(accuracy_score(y_val, yhat_logreg)))",
      "metadata": {
        "trusted": true
      },
      "execution_count": 58,
      "outputs": [
        {
          "name": "stdout",
          "text": "Accuracy of the logistic regression model is 0.583\n",
          "output_type": "stream"
        }
      ]
    },
    {
      "cell_type": "markdown",
      "source": "# Model Evaluation using Test set\n",
      "metadata": {}
    },
    {
      "cell_type": "code",
      "source": "from sklearn.metrics import f1_score\n# for f1_score please set the average parameter to 'micro'\nfrom sklearn.metrics import log_loss",
      "metadata": {
        "trusted": true
      },
      "execution_count": 59,
      "outputs": []
    },
    {
      "cell_type": "code",
      "source": "def jaccard_index(predictions, true):\n    if (len(predictions) == len(true)):\n        intersect = 0;\n        for x,y in zip(predictions, true):\n            if (x == y):\n                intersect += 1\n        return intersect / (len(predictions) + len(true) - intersect)\n    else:\n        return -1",
      "metadata": {
        "trusted": true
      },
      "execution_count": 60,
      "outputs": []
    },
    {
      "cell_type": "markdown",
      "source": "<b>Question  5</b> Calculate the  F1 score and Jaccard score for each model from above. Use the Hyperparameter that performed best on the validation data. **For f1\\_score please set the average parameter to 'micro'.**\n",
      "metadata": {}
    },
    {
      "cell_type": "markdown",
      "source": "### Load Test set for evaluation\n",
      "metadata": {}
    },
    {
      "cell_type": "code",
      "source": "await download(\"https://s3-api.us-geo.objectstorage.softlayer.net/cf-courses-data/CognitiveClass/ML0120ENv3/Dataset/ML0101EN_EDX_skill_up/basketball_train.csv\", \"basketball_train.csv\")\ntest_df = pd.read_csv(\"basketball_train.csv\")\ntest_df.head()",
      "metadata": {
        "trusted": true
      },
      "execution_count": 61,
      "outputs": [
        {
          "execution_count": 61,
          "output_type": "execute_result",
          "data": {
            "text/plain": "             TEAM CONF   G   W  ADJOE  ADJDE  BARTHAG  EFG_O  EFG_D   TOR  \\\n0  North Carolina  ACC  40  33  123.3   94.9   0.9531   52.6   48.1  15.4   \n1       Villanova   BE  40  35  123.1   90.9   0.9703   56.1   46.7  16.3   \n2      Notre Dame  ACC  36  24  118.3  103.3   0.8269   54.0   49.5  15.3   \n3        Virginia  ACC  37  29  119.9   91.0   0.9600   54.8   48.4  15.1   \n4          Kansas  B12  37  32  120.9   90.4   0.9662   55.7   45.1  17.8   \n\n   ...  FTRD  2P_O  2P_D  3P_O  3P_D  ADJ_T   WAB  POSTSEASON  SEED  YEAR  \n0  ...  30.4  53.9  44.6  32.7  36.2   71.7   8.6         2ND   1.0  2016  \n1  ...  30.0  57.4  44.1  36.2  33.9   66.7   8.9   Champions   2.0  2016  \n2  ...  26.0  52.9  46.5  37.4  36.9   65.5   2.3          E8   6.0  2016  \n3  ...  33.4  52.6  46.3  40.3  34.7   61.9   8.6          E8   1.0  2016  \n4  ...  37.3  52.7  43.4  41.3  32.5   70.1  11.6          E8   1.0  2016  \n\n[5 rows x 24 columns]",
            "text/html": "<div>\n<style scoped>\n    .dataframe tbody tr th:only-of-type {\n        vertical-align: middle;\n    }\n\n    .dataframe tbody tr th {\n        vertical-align: top;\n    }\n\n    .dataframe thead th {\n        text-align: right;\n    }\n</style>\n<table border=\"1\" class=\"dataframe\">\n  <thead>\n    <tr style=\"text-align: right;\">\n      <th></th>\n      <th>TEAM</th>\n      <th>CONF</th>\n      <th>G</th>\n      <th>W</th>\n      <th>ADJOE</th>\n      <th>ADJDE</th>\n      <th>BARTHAG</th>\n      <th>EFG_O</th>\n      <th>EFG_D</th>\n      <th>TOR</th>\n      <th>...</th>\n      <th>FTRD</th>\n      <th>2P_O</th>\n      <th>2P_D</th>\n      <th>3P_O</th>\n      <th>3P_D</th>\n      <th>ADJ_T</th>\n      <th>WAB</th>\n      <th>POSTSEASON</th>\n      <th>SEED</th>\n      <th>YEAR</th>\n    </tr>\n  </thead>\n  <tbody>\n    <tr>\n      <th>0</th>\n      <td>North Carolina</td>\n      <td>ACC</td>\n      <td>40</td>\n      <td>33</td>\n      <td>123.3</td>\n      <td>94.9</td>\n      <td>0.9531</td>\n      <td>52.6</td>\n      <td>48.1</td>\n      <td>15.4</td>\n      <td>...</td>\n      <td>30.4</td>\n      <td>53.9</td>\n      <td>44.6</td>\n      <td>32.7</td>\n      <td>36.2</td>\n      <td>71.7</td>\n      <td>8.6</td>\n      <td>2ND</td>\n      <td>1.0</td>\n      <td>2016</td>\n    </tr>\n    <tr>\n      <th>1</th>\n      <td>Villanova</td>\n      <td>BE</td>\n      <td>40</td>\n      <td>35</td>\n      <td>123.1</td>\n      <td>90.9</td>\n      <td>0.9703</td>\n      <td>56.1</td>\n      <td>46.7</td>\n      <td>16.3</td>\n      <td>...</td>\n      <td>30.0</td>\n      <td>57.4</td>\n      <td>44.1</td>\n      <td>36.2</td>\n      <td>33.9</td>\n      <td>66.7</td>\n      <td>8.9</td>\n      <td>Champions</td>\n      <td>2.0</td>\n      <td>2016</td>\n    </tr>\n    <tr>\n      <th>2</th>\n      <td>Notre Dame</td>\n      <td>ACC</td>\n      <td>36</td>\n      <td>24</td>\n      <td>118.3</td>\n      <td>103.3</td>\n      <td>0.8269</td>\n      <td>54.0</td>\n      <td>49.5</td>\n      <td>15.3</td>\n      <td>...</td>\n      <td>26.0</td>\n      <td>52.9</td>\n      <td>46.5</td>\n      <td>37.4</td>\n      <td>36.9</td>\n      <td>65.5</td>\n      <td>2.3</td>\n      <td>E8</td>\n      <td>6.0</td>\n      <td>2016</td>\n    </tr>\n    <tr>\n      <th>3</th>\n      <td>Virginia</td>\n      <td>ACC</td>\n      <td>37</td>\n      <td>29</td>\n      <td>119.9</td>\n      <td>91.0</td>\n      <td>0.9600</td>\n      <td>54.8</td>\n      <td>48.4</td>\n      <td>15.1</td>\n      <td>...</td>\n      <td>33.4</td>\n      <td>52.6</td>\n      <td>46.3</td>\n      <td>40.3</td>\n      <td>34.7</td>\n      <td>61.9</td>\n      <td>8.6</td>\n      <td>E8</td>\n      <td>1.0</td>\n      <td>2016</td>\n    </tr>\n    <tr>\n      <th>4</th>\n      <td>Kansas</td>\n      <td>B12</td>\n      <td>37</td>\n      <td>32</td>\n      <td>120.9</td>\n      <td>90.4</td>\n      <td>0.9662</td>\n      <td>55.7</td>\n      <td>45.1</td>\n      <td>17.8</td>\n      <td>...</td>\n      <td>37.3</td>\n      <td>52.7</td>\n      <td>43.4</td>\n      <td>41.3</td>\n      <td>32.5</td>\n      <td>70.1</td>\n      <td>11.6</td>\n      <td>E8</td>\n      <td>1.0</td>\n      <td>2016</td>\n    </tr>\n  </tbody>\n</table>\n<p>5 rows × 24 columns</p>\n</div>"
          },
          "metadata": {}
        }
      ]
    },
    {
      "cell_type": "code",
      "source": "test_df['windex'] = np.where(test_df.WAB > 7, 'True', 'False')\ntest_df1 = test_df[test_df['POSTSEASON'].str.contains('F4|S16|E8', na=False)]\ntest_Feature = test_df1[['G', 'W', 'ADJOE', 'ADJDE', 'BARTHAG', 'EFG_O', 'EFG_D',\n       'TOR', 'TORD', 'ORB', 'DRB', 'FTR', 'FTRD', '2P_O', '2P_D', '3P_O',\n       '3P_D', 'ADJ_T', 'WAB', 'SEED', 'windex']]\ntest_Feature['windex'].replace(to_replace=['False','True'], value=[0,1],inplace=True)\ntest_X=test_Feature\ntest_X= preprocessing.StandardScaler().fit(test_X).transform(test_X)\ntest_X[0:5]",
      "metadata": {
        "trusted": true
      },
      "execution_count": 62,
      "outputs": [
        {
          "execution_count": 62,
          "output_type": "execute_result",
          "data": {
            "text/plain": "array([[-4.08074446e-01, -1.10135297e+00,  3.37365934e-01,\n         2.66479976e+00, -2.46831661e+00,  2.13703245e-01,\n         9.44090550e-01, -1.19216365e+00, -1.64348924e+00,\n         1.45405982e-02,  1.29523097e+00, -6.23533182e-01,\n        -9.31788560e-01,  1.42784371e-01,  1.68876201e-01,\n         2.84500844e-01,  1.62625961e+00, -8.36649260e-01,\n        -9.98500539e-01,  4.84319174e-01, -6.77003200e-01],\n       [ 3.63958290e-01,  3.26326807e-01,  7.03145068e-01,\n        -7.13778644e-01,  1.07370841e+00,  4.82633172e-01,\n         4.77498943e-01, -1.32975879e+00, -6.86193316e-02,\n        -7.35448152e-01, -1.35447914e+00, -8.06829025e-01,\n         3.41737757e-01,  4.96641291e-02,  9.40576311e-02,\n         1.37214061e+00,  6.93854620e-01, -2.00860931e+00,\n         9.80549967e-01, -1.19401460e+00,  1.47709789e+00],\n       [ 3.63958290e-01,  1.18293467e+00,  9.31757027e-01,\n        -8.78587347e-01,  1.23870131e+00,  7.85179340e-01,\n        -9.22275877e-01,  5.27775662e-01, -1.86734575e-01,\n        -1.19385964e-01, -3.17636057e-01,  6.82449703e-01,\n         1.01292055e+00,  8.07042098e-02, -9.90811637e-01,\n         1.74718880e+00, -2.38550367e-01,  6.60855252e-01,\n         1.92295497e+00, -1.19401460e+00,  1.47709789e+00],\n       [ 3.63958290e-01,  6.11862762e-01,  3.60227129e-01,\n         7.14563447e-01, -8.92254236e-02, -3.57772849e-01,\n         6.89586037e-01, -6.41783067e-01,  4.82585136e-01,\n         3.89534973e-01,  6.80805434e-01,  1.07195337e+00,\n         1.00800346e-01,  4.96641291e-02,  1.92390609e-02,\n        -8.40643737e-01,  1.32958529e+00,  3.02756347e-01,\n         3.83693465e-01, -1.19401460e+00, -6.77003200e-01],\n       [ 3.63958290e-01, -1.38688893e+00, -1.12575060e+00,\n         3.92401673e-04, -9.03545224e-01, -1.13094639e+00,\n         1.09073363e-02,  7.34168378e-01,  5.61328631e-01,\n         2.28823098e-01,  2.52408203e+00, -5.07336709e-02,\n        -5.87592258e-01, -1.62650023e+00,  7.67424763e-01,\n        -2.40566627e-01, -1.00142717e+00, -8.36649260e-01,\n        -1.81525154e+00,  1.82698619e+00, -6.77003200e-01]])"
          },
          "metadata": {}
        }
      ]
    },
    {
      "cell_type": "code",
      "source": "test_y = test_df1['POSTSEASON'].values\ntest_y[0:5]",
      "metadata": {
        "trusted": true
      },
      "execution_count": 63,
      "outputs": [
        {
          "execution_count": 63,
          "output_type": "execute_result",
          "data": {
            "text/plain": "array(['E8', 'E8', 'E8', 'E8', 'F4'], dtype=object)"
          },
          "metadata": {}
        }
      ]
    },
    {
      "cell_type": "markdown",
      "source": "KNN\n",
      "metadata": {}
    },
    {
      "cell_type": "code",
      "source": "test_yhat_kneigh = kneigh.predict(test_X)\n\n#Compute f1_score\nprint(\"\\nF1 score of the KNN model is \", f1_score(test_y, test_yhat_kneigh, average = 'micro'))\n\n#Compute Jaccard Index\nprint(\"\\nJaccard Score of the KNN Model is \", jaccard_index(test_yhat_kneigh, test_y))",
      "metadata": {
        "trusted": true
      },
      "execution_count": 67,
      "outputs": [
        {
          "name": "stdout",
          "text": "\nF1 score of the KNN model is  0.6285714285714286\n\nJaccard Score of the KNN Model is  0.4583333333333333\n",
          "output_type": "stream"
        }
      ]
    },
    {
      "cell_type": "markdown",
      "source": "Decision Tree\n",
      "metadata": {}
    },
    {
      "cell_type": "code",
      "source": "test_yhat_dtc = dtc.predict(test_X)\n\n#Compute f1_score\nprint(\"\\nF1 score of the Decision Tree model is \", f1_score(test_y, test_yhat_dtc, average = 'micro'))\n\n#Compute Jaccard Index\nprint(\"\\nJaccard Score of the Decision Tree Model is \", jaccard_index(test_yhat_dtc, test_y))",
      "metadata": {
        "trusted": true
      },
      "execution_count": 70,
      "outputs": [
        {
          "name": "stdout",
          "text": "\nF1 score of the Decision Tree model is  0.6428571428571429\n\nJaccard Score of the Decision Tree Model is  0.47368421052631576\n",
          "output_type": "stream"
        }
      ]
    },
    {
      "cell_type": "markdown",
      "source": "SVM\n",
      "metadata": {}
    },
    {
      "cell_type": "code",
      "source": "test_yhat_svm = project_svm.predict(test_X)\n\n#Compute f1_score\nprint(\"\\nF1 score of the SVM model is \", f1_score(test_y, test_yhat_svm, average = 'micro'))\n\n#Compute Jaccard Index\nprint(\"\\nJaccard Score of the SVM Model is \", jaccard_index(test_yhat_svm, test_y))",
      "metadata": {
        "trusted": true
      },
      "execution_count": 73,
      "outputs": [
        {
          "name": "stdout",
          "text": "\nF1 score of the SVM model is  0.6857142857142857\n\nJaccard Score of the SVM Model is  0.5217391304347826\n",
          "output_type": "stream"
        }
      ]
    },
    {
      "cell_type": "markdown",
      "source": "Logistic Regression\n",
      "metadata": {}
    },
    {
      "cell_type": "code",
      "source": "test_yhat_logreg = log_reg.predict(test_X)\n\n#Compute f1_score\nprint(\"\\nF1 score of the Logistic Regression model is \", f1_score(test_y, test_yhat_logreg, average = 'micro'))\n\n#Compute Jaccard Index\nprint(\"\\nJaccard Score of the Logistic Regression Model is \", jaccard_index(test_yhat_logreg, test_y))",
      "metadata": {
        "trusted": true
      },
      "execution_count": 74,
      "outputs": [
        {
          "name": "stdout",
          "text": "\nF1 score of the Logistic Regression model is  0.5714285714285714\n\nJaccard Score of the Logistic Regression Model is  0.4\n",
          "output_type": "stream"
        }
      ]
    },
    {
      "cell_type": "markdown",
      "source": "# Report\n\nYou should be able to report the accuracy of the built model using different evaluation metrics:\n",
      "metadata": {}
    },
    {
      "cell_type": "markdown",
      "source": "| Algorithm          | Accuracy | Jaccard | F1-score | LogLoss |\n| ------------------ | -------- | ------- | -------- | ------- |\n| KNN                | ?        | ?       | ?        | NA      |\n| Decision Tree      | ?        | ?       | ?        | NA      |\n| SVM                | ?        | ?       | ?        | NA      |\n| LogisticRegression | ?        | ?       | ?        | ?       |\n",
      "metadata": {}
    },
    {
      "cell_type": "markdown",
      "source": "Something to keep in mind when creating models to predict the results of basketball tournaments or sports in general is that is quite hard due to so many factors influencing the game. Even in sports betting an accuracy of 55% and over is considered good as it indicates profits.\n",
      "metadata": {}
    },
    {
      "cell_type": "markdown",
      "source": "<h2>Want to learn more?</h2>\n\nIBM SPSS Modeler is a comprehensive analytics platform that has many machine learning algorithms. It has been designed to bring predictive intelligence to decisions made by individuals, by groups, by systems – by your enterprise as a whole. A free trial is available through this course, available here: <a href=\"https://www.ibm.com/analytics/spss-statistics-software?utm_medium=Exinfluencer&utm_source=Exinfluencer&utm_content=000026UJ&utm_term=10006555&utm_id=NA-SkillsNetwork-Channel-SkillsNetworkCoursesIBMDeveloperSkillsNetworkML0101ENSkillsNetwork20718538-2022-01-01\">SPSS Modeler</a>\n\nAlso, you can use Watson Studio to run these notebooks faster with bigger datasets. Watson Studio is IBM's leading cloud solution for data scientists, built by data scientists. With Jupyter notebooks, RStudio, Apache Spark and popular libraries pre-packaged in the cloud, Watson Studio enables data scientists to collaborate on their projects without having to install anything. Join the fast-growing community of Watson Studio users today with a free account at <a href=\"https://www.ibm.com/cloud/watson-studio?utm_medium=Exinfluencer&utm_source=Exinfluencer&utm_content=000026UJ&utm_term=10006555&utm_id=NA-SkillsNetwork-Channel-SkillsNetworkCoursesIBMDeveloperSkillsNetworkML0101ENSkillsNetwork20718538-2022-01-01\">Watson Studio</a>\n",
      "metadata": {}
    },
    {
      "cell_type": "markdown",
      "source": "### Thank you for completing this lab!\n\n## Author\n\nSaeed Aghabozorgi\n\n### Other Contributors\n\n<a href=\"https://www.linkedin.com/in/joseph-s-50398b136/?utm_medium=Exinfluencer&utm_source=Exinfluencer&utm_content=000026UJ&utm_term=10006555&utm_id=NA-SkillsNetwork-Channel-SkillsNetworkCoursesIBMDeveloperSkillsNetworkML0101ENSkillsNetwork20718538-2022-01-01\" target=\"_blank\">Joseph Santarcangelo</a>\n\n## Change Log\n\n| Date (YYYY-MM-DD) | Version | Changed By    | Change Description                       |\n| ----------------- | ------- | ------------- | ---------------------------------------- |\n| 2022-11-29        | 2.2     | Anita Verma   | Converted initial version to Jupyterlite |\n| 2021-04-03        | 2.1     | Malika Singla | Updated the Report accuracy              |\n| 2020-08-27        | 2.0     | Lavanya       | Moved lab to course repo in GitLab       |\n|                   |         |               |                                          |\n|                   |         |               |                                          |\n\n## <h3 align=\"center\"> © IBM Corporation 2020. All rights reserved. <h3/>\n",
      "metadata": {}
    }
  ]
}